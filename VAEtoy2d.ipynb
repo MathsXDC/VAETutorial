{
  "nbformat": 4,
  "nbformat_minor": 0,
  "metadata": {
    "colab": {
      "name": "VAEtoy2d.ipynb",
      "provenance": [],
      "private_outputs": true,
      "authorship_tag": "ABX9TyOba5lgeIp0YxPbxrS4n/uT",
      "include_colab_link": true
    },
    "kernelspec": {
      "name": "python3",
      "display_name": "Python 3"
    },
    "accelerator": "GPU"
  },
  "cells": [
    {
      "cell_type": "markdown",
      "metadata": {
        "id": "view-in-github",
        "colab_type": "text"
      },
      "source": [
        "<a href=\"https://colab.research.google.com/github/ronaldiscool/VAETutorial/blob/master/VAEtoy2d.ipynb\" target=\"_parent\"><img src=\"https://colab.research.google.com/assets/colab-badge.svg\" alt=\"Open In Colab\"/></a>"
      ]
    },
    {
      "cell_type": "markdown",
      "metadata": {
        "id": "RORJ6vRrPVlL",
        "colab_type": "text"
      },
      "source": [
        "##Typical VAEs\n",
        "This notebook is a walk-through of the code to produce the results in Section 6. First, let us see what our ground truth datasets look like. "
      ]
    },
    {
      "cell_type": "code",
      "metadata": {
        "id": "fsDv1FUqPT88",
        "colab_type": "code",
        "colab": {}
      },
      "source": [
        "import numpy as np\n",
        "import matplotlib.pyplot as plt\n",
        "import matplotlib.colors as col\n",
        "\n",
        "def plot_gt(data):\n",
        "    limit = 0.5\n",
        "    step = 1/1024.0\n",
        "    pixels = int(2*limit/step)\n",
        "    grid = np.array([[a, b] for a in np.arange(-limit, limit, step) for b in np.arange(-limit, limit, step)])\n",
        "\n",
        "    if data =='8gaussians':\n",
        "        centers = [(1, 0), (-1, 0), (0, 1), (0, -1), (1. / np.sqrt(2), 1. / np.sqrt(2)),\n",
        "               (1. / np.sqrt(2), -1. / np.sqrt(2)), (-1. / np.sqrt(2),\n",
        "                                                     1. / np.sqrt(2)), (-1. / np.sqrt(2), -1. / np.sqrt(2))]\n",
        "        centers = [(limit * x, limit * y) for x, y in centers]\n",
        "        color = np.zeros((pixels*pixels,3))\n",
        "        for i,center  in enumerate(centers):\n",
        "            x = grid*1.414 - center\n",
        "            prob = np.prod(1/(2*np.pi/256.0)**0.5 * np.exp(-x**2/(2/256.0)),-1)\n",
        "            color[:,0] += i/8.0 * prob\n",
        "            color[:,2] += prob \n",
        "    elif data =='checkerboard':\n",
        "        l=[0,2,1,3,0,2,1,3]\n",
        "        color = np.zeros((pixels,pixels,3))\n",
        "        for i in range(8):\n",
        "            y=i//2*256\n",
        "            x=l[i]*256\n",
        "            color[x:x+256, y:y+256,0]=i/8.0\n",
        "            color[x:x+256, y:y+256,2]=1\n",
        "    elif data=='2spirals':\n",
        "        grid = grid.reshape((pixels,pixels,2))\n",
        "        color = np.zeros((pixels,pixels,3))\n",
        "        for i in range(10000):\n",
        "            n = (i/10000.0)**0.5 * 540 * 2 *np.pi / 360\n",
        "            d = np.zeros((1,2))\n",
        "            d[0,0] = -np.cos(n) * n/3.0/8\n",
        "            d[0,1] = np.sin(n) *  n /3.0 /8\n",
        "\n",
        "            idx = int((d[0,0]+limit)/step)\n",
        "            idy = int((d[0,1]+limit)/step)\n",
        "            x = grid[idx-50:idx+50, idy-50:idy+50,:] - d\n",
        "            cur_prob = np.prod(1/(2*np.pi*0.01/64)**0.5 * np.exp(-x**2/(2*0.01/64)),-1)\n",
        "\n",
        "            cur_color = np.ones((100,100,3))\n",
        "            cur_color[:,:,0] = (i/20000.0+0.5)*cur_prob\n",
        "            cur_color[:,:,2] = cur_prob\n",
        "            color[idx-50:idx+50, idy-50:idy+50] += cur_color\n",
        "\n",
        "            #other spiral\n",
        "            idx = int((-d[0,0]+limit)/step)\n",
        "            idy = int((-d[0,1]+limit)/step)\n",
        "            x = grid[idx-50:idx+50, idy-50:idy+50,:] + d\n",
        "            cur_prob = np.prod(1/(2*np.pi*0.01/64)**0.5 * np.exp(-x**2/(2*0.01/64)),-1)\n",
        "         \n",
        "            cur_color = np.ones((100,100,3))\n",
        "            cur_color[:,:,0] = (-i/20000.0+0.5)*cur_prob\n",
        "            cur_color[:,:,2] = cur_prob\n",
        "            color[idx-50:idx+50, idy-50:idy+50] += cur_color\n",
        "\n",
        "        \n",
        "    color = color.reshape((pixels,pixels,3))\n",
        "    color[:,:,0]/=(color[:,:,2]+1e-12)\n",
        "    color[:,:,1]=1\n",
        "    prob = color[:,:,2].reshape((pixels,pixels))\n",
        "    prob = prob / np.sum(prob) #normalize the data\n",
        "    prob+=1e-20\n",
        "    entropy = - prob * np.log(prob)/np.log(2)\n",
        "    entropy = np.sum(entropy)\n",
        "    max_prob = np.max(prob)\n",
        "\n",
        "    color[:,:,2]/=np.max(color[:,:,2])\n",
        "    color = col.hsv_to_rgb(color)\n",
        "\n",
        "    fig = plt.figure(figsize=(18, 18))\n",
        "\n",
        "    ax1 = fig.add_subplot(1,2,1)\n",
        "    ax1.axis('off')\n",
        "    ax1.imshow(prob, extent=(-limit, limit, -limit, limit))\n",
        "\n",
        "    ax2 = fig.add_subplot(1,2,2)\n",
        "    ax2.axis('off')\n",
        "    ax2.imshow(color, extent=(-limit, limit, -limit, limit))\n",
        "\n",
        "    fig.tight_layout()\n",
        "\n",
        "    return entropy-20, max_prob, prob, color\n",
        "\n",
        "entropy8g, max_prob8g, prob8g, color8g = plot_gt('8gaussians')\n",
        "print('Entropy for 8gaussians: {:f}'.format( entropy8g))\n",
        "#print('Max probability for 8gaussians: {:e}'.format(max_prob8g))\n",
        "\n",
        "entropyc, max_probc, probc, colorc =plot_gt('checkerboard')\n",
        "print('Entropy for Checkerboard: {:f}'.format( entropyc))\n",
        "#print('Max probability for Checkerboard: {:e}'.format(max_probc))\n",
        "\n",
        "entropy2s, max_prob2s, prob2s, color2s =plot_gt('2spirals')\n",
        "print('Entropy for 2spirals: {:f}'.format( entropy2s))\n",
        "#print('Max probability for 2spirals: {:e}'.format(max_prob2s))\n"
      ],
      "execution_count": null,
      "outputs": []
    },
    {
      "cell_type": "markdown",
      "metadata": {
        "id": "C6B7eXoWMvz9",
        "colab_type": "text"
      },
      "source": [
        "We have plotted two figures for each dataset.\n",
        "On the left-hand side is the ground truth density function. On the right-hand side is a color map of the data that we will later use to visualize the latent space of a VAE. \n",
        "\n",
        "We have also printed out the approximate entropy *H* of the ground truth probability distribution over the pixels. Recall that for continuous data, *H + 2n* can be interpreted as the number of bits needed to describe a sample from a 2D distribution to *n*-bit accuracy. As a sanity check, a uniform distribution across the whole domain should have an entropy of 0 bits, and the checkerboard dataset, which is a uniform distribution over half the domain, would have an entropy of -1. The entropy is also the value of the optimal negative log-likelihood for a maximum likelihood model.\n",
        "\n",
        "Now let us set up the dataloader. We will call ```sample2d``` every iteration during training to sample a batch of continuous values from the ground truth dataset to train the VAE."
      ]
    },
    {
      "cell_type": "code",
      "metadata": {
        "id": "0lJYTZD-L1QK",
        "colab_type": "code",
        "colab": {}
      },
      "source": [
        "def sample2d(data, batch_size=200):\n",
        "    #code largely taken from https://github.com/nicola-decao/BNAF/blob/master/data/generate2d.py\n",
        "\n",
        "    rng = np.random.RandomState()\n",
        "\n",
        "    if data == '8gaussians':\n",
        "        scale = 4\n",
        "        centers = [(1, 0), (-1, 0), (0, 1), (0, -1), (1. / np.sqrt(2), 1. / np.sqrt(2)),\n",
        "                   (1. / np.sqrt(2), -1. / np.sqrt(2)), (-1. / np.sqrt(2),\n",
        "                                                         1. / np.sqrt(2)), (-1. / np.sqrt(2), -1. / np.sqrt(2))]\n",
        "        centers = [(scale * x, scale * y) for x, y in centers]\n",
        "\n",
        "        dataset = []\n",
        "        for i in range(batch_size):\n",
        "            point = rng.randn(2) * 0.5\n",
        "            idx = rng.randint(8)\n",
        "            center = centers[idx]\n",
        "            point[0] += center[0]\n",
        "            point[1] += center[1]\n",
        "            dataset.append(point)\n",
        "        dataset = np.array(dataset, dtype='float32')\n",
        "        dataset /= 1.414\n",
        "        return dataset/8.0\n",
        "\n",
        "    elif data == '2spirals':\n",
        "        n = np.sqrt(np.random.rand(batch_size, 1)) * 540 * (2 * np.pi) / 360\n",
        "        d1x = -np.cos(n) * n\n",
        "        d1y = np.sin(n) * n \n",
        "        x = np.hstack((d1x, d1y)) / 3 * (np.random.randint(0, 2, (batch_size,1)) * 2 -1)\n",
        "        x += np.random.randn(*x.shape) * 0.1\n",
        "        return x/8.0\n",
        "\n",
        "    elif data == 'checkerboard':\n",
        "        x1 = np.random.rand(batch_size) * 4 - 2\n",
        "        x2_ = np.random.rand(batch_size) - np.random.randint(0, 2, batch_size) * 2\n",
        "        x2 = x2_ + (np.floor(x1) % 2)\n",
        "        return np.concatenate([x1[:, None], x2[:, None]], 1) * 2 / 8.0\n",
        "\n",
        "    else:\n",
        "        raise RuntimeError\n"
      ],
      "execution_count": null,
      "outputs": []
    },
    {
      "cell_type": "markdown",
      "metadata": {
        "id": "21LuJO5yMuH-",
        "colab_type": "text"
      },
      "source": [
        "Now that we have set up our data loader, we can construct a Typical VAE. The architectural backbone of our encoder and decoder will be a *DenseBlock*, which concatenates the output of each fully connected layer with its input."
      ]
    },
    {
      "cell_type": "code",
      "metadata": {
        "id": "AVzntknpNqdW",
        "colab_type": "code",
        "colab": {}
      },
      "source": [
        "from torch import nn\n",
        "\n",
        "class DenseBlock(nn.Module):\n",
        "  def __init__(self, input_dim, growth, depth):\n",
        "    super(DenseBlock,self).__init__()\n",
        "    ops=[]\n",
        "    for i in range(depth):\n",
        "      ops.append(nn.Sequential(nn.utils.weight_norm(nn.Linear(input_dim+i*growth, growth)), nn.ReLU() ) )\n",
        "\n",
        "    self.ops = nn.ModuleList(ops)\n",
        "\n",
        "  def forward(self,x):\n",
        "    for op in self.ops:\n",
        "      y = op(x)\n",
        "      x = torch.cat([x,y],1)\n",
        "    return x\n"
      ],
      "execution_count": null,
      "outputs": []
    },
    {
      "cell_type": "markdown",
      "metadata": {
        "id": "T2l0BFnupIxc",
        "colab_type": "text"
      },
      "source": [
        "Note that we use Weight Norm as opposed to Batch Norm. The reasononing behind using Weight Norm is that Batch Norm introduces noise during training, which although tolerable for classification hurts our ability to precisely reconstruct the input. By using Weight Norm, any noise introduced in our VAE is counted towards the regularization loss. We can now construct our VAE architecture and define functions to performe inference. ```compute_negative_elbo``` computes the negative ELBO and will be used during training. ```importance_sampling``` approximates the exact negative log-likelihood and will be used during evaluation.\n",
        "\n",
        "During training, we use a trick called the *free bits objective*. A problem with optimizing VAEs is that the latent space initially contains 0 information, so a lot of noise is applied to the space. This noise can send the optimization landscape into a bad local minima and cause swings in behavior depending on the random seed. To stabilize training, the free bits objective introduces a hyperparameter $\\alpha$ such that the regularization loss is inactive for latent variables containing less than $\\alpha$ bits of information. This allows the VAE to quickly learn to store $\\alpha$ bits into each latent variable, after which training can stablely proceed with the standard negative ELBO objective. We want $\\alpha$ to be high enough so that the VAE enters a stable regime of training but do not want $\\alpha$ to be too high since the free bits objective is not the natural VAE objective. Moreover, if $\\alpha$ is too high, then $q_\\phi(\\mathbf{z}|\\mathbf{x})$ will very quickly have low variance, which may prevent exploration of the latent space. In our example we will use $\\alpha=0.05$."
      ]
    },
    {
      "cell_type": "code",
      "metadata": {
        "id": "PwiaLXm4njnU",
        "colab_type": "code",
        "colab": {}
      },
      "source": [
        "import torch\n",
        "import math\n",
        "import torch.nn.functional as F\n",
        "\n",
        "class VAE(nn.Module):\n",
        "  def __init__(self, latent_dim=2):\n",
        "    super(VAE,self).__init__()\n",
        "    #set up hyperparameters\n",
        "    self.latent_dim = latent_dim\n",
        "    growth=1024\n",
        "    depth=6\n",
        "\n",
        "    #define architecture\n",
        "    encoder_dense = DenseBlock(2, growth,depth) \n",
        "    encoder_linear = nn.utils.weight_norm(nn.Linear(2+growth*depth, self.latent_dim*2))\n",
        "    self.encoder = nn.Sequential(encoder_dense, encoder_linear)\n",
        "\n",
        "    decoder_dense = DenseBlock(self.latent_dim, growth,depth) \n",
        "    decoder_linear = nn.utils.weight_norm(nn.Linear(self.latent_dim+growth*depth, 2*2))\n",
        "    self.decoder = nn.Sequential(decoder_dense, decoder_linear)\n",
        "\n",
        "  def encode(self,x):\n",
        "    z_params = self.encoder(x)\n",
        "    z_mu = z_params[:,:self.latent_dim]\n",
        "    z_logvar = z_params[:,self.latent_dim:]\n",
        "    return z_mu, z_logvar\n",
        "\n",
        "  def decode(self,z):\n",
        "    x_params = self.decoder(z)\n",
        "    x_mu = x_params[:,:2]\n",
        "    x_logvar = x_params[:,2:]\n",
        "    return x_mu, x_logvar\n",
        "\n",
        "  def reparameterize(self, mu, logvar):\n",
        "    std = torch.exp(0.5*logvar)\n",
        "    return mu + torch.cuda.FloatTensor(std.shape).normal_() * std\n",
        "\n",
        "  def forward(self,x):\n",
        "    z_mu, z_logvar = self.encode(x)\n",
        "    z = self.reparameterize(z_mu, z_logvar)\n",
        "    x_mu, x_logvar = self.decode(z)\n",
        "    return x_mu,x_logvar, z_mu, z_logvar\n",
        "\n",
        "\n",
        "  def compute_negative_elbo(self, x, freebits=0):\n",
        "    x_mu, x_logvar, z_mu, z_logvar = self.forward(x)\n",
        "    l_rec = -torch.sum(gaussian_log_prob(x, x_mu, x_logvar),1)\n",
        "    l_reg = torch.sum(F.relu(self.compute_kld(z_mu, z_logvar)-freebits*math.log(2))+freebits*math.log(2),1)\n",
        "    return l_rec + l_reg, l_rec, l_reg\n",
        "\n",
        "  def compute_kld(self,z_mu, z_logvar):\n",
        "    return 0.5*(z_mu**2 + torch.exp(z_logvar) - 1 - z_logvar)\n",
        "\n",
        "  \n",
        "  def importance_sampling(self, x, importance_samples=1):\n",
        "    z_mu, z_logvar = self.encode(x)\n",
        "\n",
        "    z_mu = z_mu.unsqueeze(1).repeat((1,importance_samples,1))\n",
        "    z_mu = z_mu.reshape((-1, self.latent_dim))\n",
        "    z_logvar = z_logvar.unsqueeze(1).repeat((1,importance_samples,1))\n",
        "    z_logvar = z_logvar.reshape((-1, self.latent_dim))\n",
        "    x = x.unsqueeze(1).repeat((1,importance_samples,1))\n",
        "    x = x.reshape((-1,2))\n",
        "\n",
        "    z = self.reparameterize(z_mu, z_logvar)\n",
        "    x_mu, x_logvar = self.decode(z)\n",
        "    x_mu = x_mu.reshape((-1,importance_samples,2))\n",
        "    x_logvar = x_logvar.reshape((-1,importance_samples,2))\n",
        "\n",
        "    x = x.reshape((-1,importance_samples,2))\n",
        "    z = z.reshape((-1,importance_samples,self.latent_dim))\n",
        "    z_mu = z_mu.reshape((-1,importance_samples,self.latent_dim))\n",
        "    z_logvar = z_logvar.reshape((-1,importance_samples,self.latent_dim))\n",
        "\n",
        "    logpxz = gaussian_log_prob(x, x_mu,x_logvar)\n",
        "    logpz = gaussian_log_prob(z, torch.zeros(z.shape).cuda(), torch.zeros(z.shape).cuda())\n",
        "    logqzx = gaussian_log_prob(z, z_mu, z_logvar)\n",
        "\n",
        "    logprob = logpxz+logpz - logqzx\n",
        "    logprob = torch.sum(logprob,2)\n",
        "    logprob = log_mean_exp(logprob, 1)\n",
        "\n",
        "    return -logprob\n",
        "\n",
        "def gaussian_log_prob(z, mu, logvar):\n",
        "  return -0.5*(math.log(2*math.pi) + logvar + (z-mu)**2/torch.exp(logvar))\n",
        "\n",
        "def log_mean_exp(x,axis):\n",
        "    m,_=torch.max(x,axis)\n",
        "    m2,_ = torch.max(x,axis,keepdim=True)\n",
        "    return m + torch.log(torch.mean(torch.exp(x-m2),axis))\n",
        "\n"
      ],
      "execution_count": null,
      "outputs": []
    },
    {
      "cell_type": "markdown",
      "metadata": {
        "id": "glz3iGicAwWh",
        "colab_type": "text"
      },
      "source": [
        "We now have all the tools we need to train a VAE. We will sample 200 points each iteration and minimize the negative ELBO over the course of 60000 iterations. Each model should take roughly 20 minutes to train."
      ]
    },
    {
      "cell_type": "code",
      "metadata": {
        "id": "kDaTSfbIBWUu",
        "colab_type": "code",
        "colab": {}
      },
      "source": [
        "import time\n",
        "\n",
        "def s2hms(s):\n",
        "  h = s//3600\n",
        "  m = (s-h*3600)//60\n",
        "  s = int(s-h*3600-m*60)\n",
        "  return h,m,s\n",
        "\n",
        "def print_progress(time, cur_iter, total_iter):\n",
        "  h,m,s = s2hms(time)\n",
        "  h2,m2,s2 = s2hms(time*total_iter/cur_iter - time)\n",
        "  print('Time Elapsed: %d hours %d minutes %d seconds. Time Remaining: %d hours %d minutes %d seconds.'%(h,m,s,h2,m2,s2))\n",
        "\n",
        "\n",
        "def train_vae(dataset, model=None, epochs=60000, print_freq=1000):\n",
        "  if model is None:\n",
        "    model = VAE().cuda()\n",
        "  optimizer = torch.optim.Adam(model.parameters(), lr=1e-4, amsgrad=True)\n",
        "  scheduler = torch.optim.lr_scheduler.ReduceLROnPlateau(optimizer, factor=0.5,\n",
        "                                                           patience=epochs/20,\n",
        "                                                           min_lr=1e-8, verbose=True,\n",
        "                                                           threshold_mode='abs')\n",
        "  start=time.time()\n",
        "  loss_ema=0\n",
        "  for iteration in range(epochs): #train for 60k iterations\n",
        "    data = torch.tensor(sample2d(dataset,200)).float().cuda()\n",
        "    neg_elbo, l_rec, l_reg = model.compute_negative_elbo(data,freebits=0.05)\n",
        "\n",
        "    loss = torch.mean(l_reg + l_rec )/math.log(2)\n",
        "    loss.backward()\n",
        "    optimizer.step()\n",
        "    optimizer.zero_grad()\n",
        "    loss_ema = 0.99*loss_ema + 0.01*loss\n",
        "    scheduler.step(loss_ema)\n",
        "    if iteration%print_freq == 0:\n",
        "      with torch.no_grad():\n",
        "        #print('Iteration %d. Loss: %f'%(iteration, loss))\n",
        "        #neg_elbo, l_rec, l_reg = model.compute_negative_elbo(data,0)\n",
        "        print('Iteration %d. ELBO: %f L_rec: %f L_reg: %f'%(iteration, torch.mean(neg_elbo)/math.log(2),torch.mean(l_rec)/math.log(2), torch.mean(l_reg)/math.log(2)))\n",
        "        if iteration>0:\n",
        "          print_progress(time.time()-start, iteration, epochs)\n",
        "\n",
        "  return model"
      ],
      "execution_count": null,
      "outputs": []
    },
    {
      "cell_type": "code",
      "metadata": {
        "id": "HSY9QsfOELDV",
        "colab_type": "code",
        "colab": {}
      },
      "source": [
        "model8g = train_vae('8gaussians',None,60000,1000) #should take ~20 minutes to train"
      ],
      "execution_count": null,
      "outputs": []
    },
    {
      "cell_type": "code",
      "metadata": {
        "id": "N68TnDSMbvCH",
        "colab_type": "code",
        "colab": {}
      },
      "source": [
        "modelc = train_vae('checkerboard',None,60000,1000) #should take ~20 minutes to train"
      ],
      "execution_count": null,
      "outputs": []
    },
    {
      "cell_type": "code",
      "metadata": {
        "id": "KqzRmUbOby9i",
        "colab_type": "code",
        "colab": {}
      },
      "source": [
        "model2s = train_vae('2spirals',None,60000,1000) #should take ~20 minutes to train"
      ],
      "execution_count": null,
      "outputs": []
    },
    {
      "cell_type": "markdown",
      "metadata": {
        "id": "LLZBNVuzuGSr",
        "colab_type": "text"
      },
      "source": [
        "We see that the reconstruction loss decreases as training progresses while the regularization loss increases.\n",
        "Now that we have trained a model, we can evaluate it by comparing the negative log-likelihood with the ground-truth distribution and by plotting the density map of the model. The negative log-likelihood is approximated with importance sampling."
      ]
    },
    {
      "cell_type": "code",
      "metadata": {
        "id": "HHVycHB2utM5",
        "colab_type": "code",
        "colab": {}
      },
      "source": [
        "def plot_density2d(model, max_prob, gt_prob, importance_samples=1):\n",
        "    #code largely taken from https://github.com/nicola-decao/BNAF/blob/master/toy2d.py\n",
        "    limit=0.5\n",
        "    step=1/1024.0\n",
        "    grid = torch.Tensor([[a, b] for a in np.arange(-limit, limit, step) for b in np.arange(-limit, limit, step)])\n",
        "    grid_dataset = torch.utils.data.TensorDataset(grid.cuda())\n",
        "    grid_data_loader = torch.utils.data.DataLoader(grid_dataset, batch_size=20000//importance_samples, shuffle=False)\n",
        "\n",
        "    l=[]\n",
        "    start=time.time()\n",
        "    with torch.no_grad():\n",
        "      for idx, (x_mb,) in enumerate(grid_data_loader):\n",
        "        temp= model.importance_sampling(x_mb,importance_samples)\n",
        "        l.append(torch.exp(-temp))\n",
        "        if idx % 600 == 0 and idx>0:\n",
        "          print_progress(time.time()-start, idx, len(grid_data_loader))\n",
        "      prob = torch.cat(l, 0)\n",
        "   \n",
        "    prob = prob.view(int(2 * limit / step), int(2 * limit / step))\n",
        "    prob[prob!=prob]=0 #set nan probabilities to 0\n",
        "\n",
        "    prob+=1e-20\n",
        "    prob = prob/1024/1024\n",
        "    nll = - gt_prob * np.log(prob.cpu().data.numpy())/np.log(2)\n",
        "    nll = np.sum(nll)\n",
        "    print('Negative Log Likelihood' , nll-20)\n",
        "\n",
        "    prob /= torch.sum(prob)\n",
        "    prob = prob.clamp(max=max_prob)\n",
        "\n",
        "    prob = prob.cpu().data.numpy()\n",
        "\n",
        "    fig = plt.figure(figsize=(18, 18))\n",
        "    \n",
        "    ax1 = fig.add_subplot(1,2,1)\n",
        "    ax1.axis('off')\n",
        "    ax1.imshow(gt_prob, extent=(-limit, limit, -limit, limit))\n",
        "\n",
        "    ax2 = fig.add_subplot(1,2,2)\n",
        "    ax2.axis('off')\n",
        "    ax2.imshow(prob, extent=(-limit, limit, -limit, limit))\n",
        "\n",
        "    fig.tight_layout()"
      ],
      "execution_count": null,
      "outputs": []
    },
    {
      "cell_type": "markdown",
      "metadata": {
        "id": "vkODCuaCzqBw",
        "colab_type": "text"
      },
      "source": [
        "Let us first quickly evaluate our models using 1 importance sample."
      ]
    },
    {
      "cell_type": "code",
      "metadata": {
        "id": "avKEPoK209lK",
        "colab_type": "code",
        "colab": {}
      },
      "source": [
        "plot_density2d(model8g, max_prob8g,prob8g, 1)\n"
      ],
      "execution_count": null,
      "outputs": []
    },
    {
      "cell_type": "code",
      "metadata": {
        "id": "6eW42o81b3g4",
        "colab_type": "code",
        "colab": {}
      },
      "source": [
        "plot_density2d(modelc, max_probc,probc, 1)\n"
      ],
      "execution_count": null,
      "outputs": []
    },
    {
      "cell_type": "code",
      "metadata": {
        "id": "s0Bzl5Z3b7wH",
        "colab_type": "code",
        "colab": {}
      },
      "source": [
        "plot_density2d(model2s, max_prob2s,prob2s, 1)"
      ],
      "execution_count": null,
      "outputs": []
    },
    {
      "cell_type": "markdown",
      "metadata": {
        "id": "ki9ZZE65zSUX",
        "colab_type": "text"
      },
      "source": [
        "When we use only 1 importance sample, then the result is essentially the negative ELBO. We will now better approximate the likelihood by taking 250 importance samples, which will take 250 times longer. This provides a more accurate evaluation of the model performance and gives us an idea of how tight of a bound the negative ELBO is."
      ]
    },
    {
      "cell_type": "code",
      "metadata": {
        "id": "61CNugwGDDy7",
        "colab_type": "code",
        "colab": {}
      },
      "source": [
        "plot_density2d(model8g, max_prob8g,prob8g, 250) #should take around 20 minutes"
      ],
      "execution_count": null,
      "outputs": []
    },
    {
      "cell_type": "code",
      "metadata": {
        "id": "3n-fohH6fkNp",
        "colab_type": "code",
        "colab": {}
      },
      "source": [
        "plot_density2d(modelc, max_probc,probc, 250) #should take around 20 minutes"
      ],
      "execution_count": null,
      "outputs": []
    },
    {
      "cell_type": "code",
      "metadata": {
        "id": "-X2N6-G1fnjg",
        "colab_type": "code",
        "colab": {}
      },
      "source": [
        "plot_density2d(model2s, max_prob2s,prob2s, 250) #should take around 20 minutes"
      ],
      "execution_count": null,
      "outputs": []
    },
    {
      "cell_type": "markdown",
      "metadata": {
        "id": "zDYelNNFxTJL",
        "colab_type": "text"
      },
      "source": [
        "We can also qualitatively understand the unsupervised representation learning abilities of the VAE by visualizing the correspondence between the latent space and the color maps of the ground truth distribution.\n"
      ]
    },
    {
      "cell_type": "code",
      "metadata": {
        "id": "5rKGQMRfydzb",
        "colab_type": "code",
        "colab": {}
      },
      "source": [
        "def visualize_latent(model, colormap_gt):\n",
        "    limit=2\n",
        "    step=1/256.0\n",
        "    grid = torch.Tensor([[a, b] for a in np.arange(-limit, limit, step) for b in np.arange(-limit, limit, step)])\n",
        "    grid_dataset = torch.utils.data.TensorDataset(grid.cuda())\n",
        "    grid_data_loader = torch.utils.data.DataLoader(grid_dataset, batch_size=10000, shuffle=False)\n",
        "    colormap_gt = colormap_gt.reshape((1024*1024,3))\n",
        "    l = []\n",
        "    with torch.no_grad():\n",
        "      for z ,in grid_data_loader:\n",
        "        x,_ = model.decode(z) #find the value that each latent vector maps to\n",
        "        l.append(x)\n",
        "    x = torch.cat(l,0)\n",
        "    x=(x*1024+512).long() #find the corresponding pixel in the color map \n",
        "    x[x<0]=0\n",
        "    x[x>1023]=1023\n",
        "    y = x[:,0]*1024+x[:,1]\n",
        "    y = y.reshape((-1,1)).repeat((1,3))\n",
        "    colormap_pred = torch.gather(torch.tensor(colormap_gt).cuda(), 0,y)\n",
        "    colormap_pred = colormap_pred.reshape((1024,1024,3)).cpu().data.numpy()\n",
        "    colormap_gt = colormap_gt.reshape((1024,1024,3))\n",
        "\n",
        "\n",
        "    fig = plt.figure(figsize=(18, 18))\n",
        "    \n",
        "    ax1 = fig.add_subplot(1,2,1)\n",
        "    ax1.axis('off')\n",
        "    ax1.imshow(colormap_gt, extent=(-0.5, 0.5, -0.5, 0.5))\n",
        "\n",
        "    ax2 = fig.add_subplot(1,2,2)\n",
        "    ax2.axis('off')\n",
        "    ax2.imshow(colormap_pred, extent=(-limit, limit, -limit, limit))\n",
        "\n",
        "    fig.tight_layout()\n"
      ],
      "execution_count": null,
      "outputs": []
    },
    {
      "cell_type": "code",
      "metadata": {
        "id": "B6I-CPRHFb0J",
        "colab_type": "code",
        "colab": {}
      },
      "source": [
        "visualize_latent(model8g,color8g)"
      ],
      "execution_count": null,
      "outputs": []
    },
    {
      "cell_type": "code",
      "metadata": {
        "id": "5ISzcTrcfAtE",
        "colab_type": "code",
        "colab": {}
      },
      "source": [
        "visualize_latent(modelc,colorc)"
      ],
      "execution_count": null,
      "outputs": []
    },
    {
      "cell_type": "code",
      "metadata": {
        "id": "WKqFQT4jfDEy",
        "colab_type": "code",
        "colab": {}
      },
      "source": [
        "visualize_latent(model2s,color2s)"
      ],
      "execution_count": null,
      "outputs": []
    },
    {
      "cell_type": "markdown",
      "metadata": {
        "id": "tz7oJ5vejQeR",
        "colab_type": "text"
      },
      "source": [
        "##IWAEs\n",
        "We now switch out the negative ELBO for an approximation of the negative log likelihood using importance sampling."
      ]
    },
    {
      "cell_type": "code",
      "metadata": {
        "id": "ITr9uPZAGdRT",
        "colab_type": "code",
        "colab": {}
      },
      "source": [
        "def train_iwae(dataset, model=None, epochs=60000, print_freq=1000):\n",
        "  if model is None:\n",
        "    model = VAE().cuda()\n",
        "  optimizer = torch.optim.Adam(model.parameters(), lr=1e-4, amsgrad=True)\n",
        "  scheduler = torch.optim.lr_scheduler.ReduceLROnPlateau(optimizer, factor=0.5,\n",
        "                                                           patience=epochs/20,\n",
        "                                                           min_lr=1e-8, verbose=True,\n",
        "                                                           threshold_mode='abs')\n",
        "  start=time.time()\n",
        "  loss_ema=0\n",
        "  for iteration in range(epochs): #train for 60k iterations\n",
        "    data = torch.tensor(sample2d(dataset,200)).float().cuda()\n",
        "    nll = model.importance_sampling(data,10)\n",
        "    loss = torch.mean(nll)/math.log(2)\n",
        "    loss.backward()\n",
        "    optimizer.step()\n",
        "    optimizer.zero_grad()\n",
        "    loss_ema = 0.99*loss_ema + 0.01*loss\n",
        "    scheduler.step(loss_ema)\n",
        "    if iteration%print_freq == 0:\n",
        "      with torch.no_grad():\n",
        "        print('Iteration %d. Loss: %f'%(iteration, loss))\n",
        "        neg_elbo, l_rec, l_reg = model.compute_negative_elbo(data,0)\n",
        "        print('Iteration %d. ELBO: %f L_rec: %f L_reg: %f'%(iteration, torch.mean(neg_elbo)/math.log(2),torch.mean(l_rec)/math.log(2), torch.mean(l_reg)/math.log(2)))\n",
        "        if iteration>0:\n",
        "          print_progress(time.time()-start, iteration, epochs)\n",
        "\n",
        "  return model"
      ],
      "execution_count": null,
      "outputs": []
    },
    {
      "cell_type": "code",
      "metadata": {
        "id": "6NbdjJV8GUKY",
        "colab_type": "code",
        "colab": {}
      },
      "source": [
        "model8g_iwae = train_iwae('8gaussians', None, 30000,400) #should take ~20 minutes to train"
      ],
      "execution_count": null,
      "outputs": []
    },
    {
      "cell_type": "code",
      "metadata": {
        "id": "mI--iqyMfydF",
        "colab_type": "code",
        "colab": {}
      },
      "source": [
        "modelc_iwae = train_iwae('checkerboard', None, 30000,400) #should take ~20 minutes to train"
      ],
      "execution_count": null,
      "outputs": []
    },
    {
      "cell_type": "code",
      "metadata": {
        "id": "uurxajhhJOsU",
        "colab_type": "code",
        "colab": {}
      },
      "source": [
        "model2s_iwae = train_iwae('2spirals', None, 30000,400) #should take ~20 minutes to train"
      ],
      "execution_count": null,
      "outputs": []
    },
    {
      "cell_type": "markdown",
      "metadata": {
        "id": "cBrAwBPBjg0g",
        "colab_type": "text"
      },
      "source": [
        "We see that compared to a Typical VAE, $D_{KL}(q_\\phi(\\mathbf{z}|\\mathbf{x}), p_\\theta(\\mathbf{z}))$ is lower, indicating that the variance of $q_\\phi(\\mathbf{z}|\\mathbf{x})$ is higher than in a VAE. We now evaluate our model and check how accurate of an approximation our objective was to the true negative log likelihood."
      ]
    },
    {
      "cell_type": "code",
      "metadata": {
        "id": "whYqBepvMZrt",
        "colab_type": "code",
        "colab": {}
      },
      "source": [
        "plot_density2d(model8g_iwae, max_prob8g,prob8g ,10)"
      ],
      "execution_count": null,
      "outputs": []
    },
    {
      "cell_type": "code",
      "metadata": {
        "id": "OwxTRZ25gFGG",
        "colab_type": "code",
        "colab": {}
      },
      "source": [
        "plot_density2d(modelc_iwae, max_probc,probc ,10)"
      ],
      "execution_count": null,
      "outputs": []
    },
    {
      "cell_type": "code",
      "metadata": {
        "id": "dRhQtzSogGPb",
        "colab_type": "code",
        "colab": {}
      },
      "source": [
        "plot_density2d(model2s_iwae, max_prob2s,prob2s ,10)"
      ],
      "execution_count": null,
      "outputs": []
    },
    {
      "cell_type": "code",
      "metadata": {
        "id": "sAtCDn3ThXnJ",
        "colab_type": "code",
        "colab": {}
      },
      "source": [
        "plot_density2d(model8g_iwae, max_prob8g,prob8g ,250) #should take ~20 minutes"
      ],
      "execution_count": null,
      "outputs": []
    },
    {
      "cell_type": "code",
      "metadata": {
        "id": "7ld8BN7ihZjD",
        "colab_type": "code",
        "colab": {}
      },
      "source": [
        "plot_density2d(modelc_iwae, max_probc,probc ,250) #should take ~20 minutes"
      ],
      "execution_count": null,
      "outputs": []
    },
    {
      "cell_type": "code",
      "metadata": {
        "id": "N5GonnEOhaB-",
        "colab_type": "code",
        "colab": {}
      },
      "source": [
        "plot_density2d(model2s_iwae, max_prob2s,prob2s ,250) #should take ~20 minutes"
      ],
      "execution_count": null,
      "outputs": []
    },
    {
      "cell_type": "markdown",
      "metadata": {
        "id": "Tsi7H3uKjrP1",
        "colab_type": "text"
      },
      "source": [
        "We now visualize the latent space of IWAE. We see that compared to Typical VAEs much less of the latent space is mapped to low-density inputs."
      ]
    },
    {
      "cell_type": "code",
      "metadata": {
        "id": "KIozAKHUMflG",
        "colab_type": "code",
        "colab": {}
      },
      "source": [
        "visualize_latent(model8g_iwae,color8g)"
      ],
      "execution_count": null,
      "outputs": []
    },
    {
      "cell_type": "code",
      "metadata": {
        "id": "Hb3mpF6GgSP8",
        "colab_type": "code",
        "colab": {}
      },
      "source": [
        "visualize_latent(modelc_iwae,colorc)"
      ],
      "execution_count": null,
      "outputs": []
    },
    {
      "cell_type": "code",
      "metadata": {
        "id": "FYP4l--_gS0K",
        "colab_type": "code",
        "colab": {}
      },
      "source": [
        "visualize_latent(model2s_iwae,color2s)"
      ],
      "execution_count": null,
      "outputs": []
    }
  ]
}